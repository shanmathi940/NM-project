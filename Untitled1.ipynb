{
  "nbformat": 4,
  "nbformat_minor": 0,
  "metadata": {
    "colab": {
      "provenance": []
    },
    "kernelspec": {
      "name": "python3",
      "display_name": "Python 3"
    },
    "language_info": {
      "name": "python"
    }
  },
  "cells": [
    {
      "cell_type": "code",
      "execution_count": null,
      "metadata": {
        "colab": {
          "base_uri": "https://localhost:8080/"
        },
        "id": "n37dEEX9jDJE",
        "outputId": "b76a1d6b-d4e9-4c8a-f454-e5a86822ea4c"
      },
      "outputs": [
        {
          "output_type": "stream",
          "name": "stdout",
          "text": [
            "name          1\n",
            "age           1\n",
            "cholestrol    1\n",
            "BMI           1\n",
            "dtype: int64\n"
          ]
        }
      ],
      "source": [
        "import pandas as pd\n",
        "import numpy as np\n",
        "data= {\"name\":[ \"a\",\"b\",np.nan],\n",
        "      \"age\":[\"25\",np.nan,\"12\"],\n",
        "      \"cholestrol\":[210,np.nan,230],\n",
        "      \"BMI\":[21,45,np.nan]}\n",
        "df=pd.DataFrame(data)\n",
        "print(df.isnull().sum())"
      ]
    },
    {
      "cell_type": "code",
      "source": [
        "df_cleaned=df.dropna()\n",
        "print(df_cleaned)"
      ],
      "metadata": {
        "colab": {
          "base_uri": "https://localhost:8080/"
        },
        "id": "GWdGGh-VjPVw",
        "outputId": "f7c34be2-c66e-47cf-9e82-abdf523ef63a"
      },
      "execution_count": null,
      "outputs": [
        {
          "output_type": "stream",
          "name": "stdout",
          "text": [
            "  name age  cholestrol   BMI\n",
            "0    a  25       210.0  21.0\n"
          ]
        }
      ]
    },
    {
      "cell_type": "code",
      "source": [
        "import pandas as pd\n",
        "import numpy as np\n",
        "\n",
        "df=pd.DataFrame({\n",
        "    'marks':[20,30,20,40,np.nan,50,np.nan,50,20,10,np.nan,30],\n",
        "    'age':[20,20,np.nan,30,90,np.nan,80,14,50,40,70,30]\n",
        "})\n",
        "\n",
        "df['marks'].fillna(int(df['marks'].mean()),inplace=True)\n",
        "print(df)"
      ],
      "metadata": {
        "colab": {
          "base_uri": "https://localhost:8080/"
        },
        "id": "5k8tI4P5jS1w",
        "outputId": "b4bbc407-e9e6-42a9-d3c8-755c17ab169d"
      },
      "execution_count": null,
      "outputs": [
        {
          "output_type": "stream",
          "name": "stdout",
          "text": [
            "    marks   age\n",
            "0    20.0  20.0\n",
            "1    30.0  20.0\n",
            "2    20.0   NaN\n",
            "3    40.0  30.0\n",
            "4    30.0  90.0\n",
            "5    50.0   NaN\n",
            "6    30.0  80.0\n",
            "7    50.0  14.0\n",
            "8    20.0  50.0\n",
            "9    10.0  40.0\n",
            "10   30.0  70.0\n",
            "11   30.0  30.0\n"
          ]
        },
        {
          "output_type": "stream",
          "name": "stderr",
          "text": [
            "<ipython-input-3-2e7a9787083d>:9: FutureWarning: A value is trying to be set on a copy of a DataFrame or Series through chained assignment using an inplace method.\n",
            "The behavior will change in pandas 3.0. This inplace method will never work because the intermediate object on which we are setting values always behaves as a copy.\n",
            "\n",
            "For example, when doing 'df[col].method(value, inplace=True)', try using 'df.method({col: value}, inplace=True)' or df[col] = df[col].method(value) instead, to perform the operation inplace on the original object.\n",
            "\n",
            "\n",
            "  df['marks'].fillna(int(df['marks'].mean()),inplace=True)\n"
          ]
        }
      ]
    },
    {
      "cell_type": "code",
      "source": [
        "df.ffill(inplace=True)\n",
        "df.bfill(inplace=True)\n",
        "df.drop_duplicates(inplace=True)"
      ],
      "metadata": {
        "id": "kRqlB5djmMnv"
      },
      "execution_count": null,
      "outputs": []
    },
    {
      "cell_type": "code",
      "source": [
        "from sklearn.preprocessing import StandardScaler\n",
        "scaler=StandardScaler()\n",
        "df_scaled=df.copy()\n",
        "df_scaled[[\"marks\",\"age\"]]=scaler.fit_transform(df[[\"marks\",\"age\"]])\n",
        "print(df_cleaned)"
      ],
      "metadata": {
        "colab": {
          "base_uri": "https://localhost:8080/"
        },
        "id": "m5r692Bun8Z1",
        "outputId": "1a9a080f-a76f-4302-a22f-4ad6ccc3aa1e"
      },
      "execution_count": null,
      "outputs": [
        {
          "output_type": "stream",
          "name": "stdout",
          "text": [
            "  name age  cholestrol   BMI\n",
            "0    a  25       210.0  21.0\n"
          ]
        }
      ]
    }
  ]
}